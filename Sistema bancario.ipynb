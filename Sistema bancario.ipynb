{
  "nbformat": 4,
  "nbformat_minor": 0,
  "metadata": {
    "colab": {
      "provenance": [],
      "authorship_tag": "ABX9TyPUvvx18F59M62oTOkZ3XtF",
      "include_colab_link": true
    },
    "kernelspec": {
      "name": "python3",
      "display_name": "Python 3"
    },
    "language_info": {
      "name": "python"
    }
  },
  "cells": [
    {
      "cell_type": "markdown",
      "metadata": {
        "id": "view-in-github",
        "colab_type": "text"
      },
      "source": [
        "<a href=\"https://colab.research.google.com/github/fontenelevitor/Sistema-banc-rio/blob/main/Sistema%20bancario.ipynb\" target=\"_parent\"><img src=\"https://colab.research.google.com/assets/colab-badge.svg\" alt=\"Open In Colab\"/></a>"
      ]
    },
    {
      "cell_type": "code",
      "source": [
        "menu = \"\"\"\n",
        "\n",
        "[d] Depositar\n",
        "[s] Sacar\n",
        "[e] Extrato\n",
        "[q] Sair\n",
        "\n",
        "=>\"\"\"\n",
        "\n",
        "saldo = 0\n",
        "limite = 500\n",
        "extrato = \"\"\n",
        "numero_saques = 0\n",
        "LIMITE_SAQUES = 3\n",
        "\n",
        "while True:\n",
        "    opcao = input(menu)\n",
        "\n",
        "    if opcao =='d':\n",
        "      valor = float(input(\"Insira o valor a ser depositado: \"))\n",
        "      if valor > 0:\n",
        "        saldo = saldo + valor\n",
        "        extrato += f\"Depósito: R$ {valor:.2f}\\n\"\n",
        "      else:\n",
        "        print(\"Valor informado é inválido.\")\n",
        "\n",
        "    elif opcao == 's':\n",
        "      valor = float(input(\"Informe o valor do saque: \"))\n",
        "\n",
        "      if valor > saldo:\n",
        "        print(\"Saldo insuficiente\")\n",
        "      elif valor > limite:\n",
        "        print(\"Valor do saque excedido\")\n",
        "      elif numero_saques >= LIMITE_SAQUES:\n",
        "        print(\"Número de saques excedido\")\n",
        "      elif valor > 0:\n",
        "        saldo = saldo - valor\n",
        "        extrato += f\"Saque: R$ {valor:.2f}\\n\"\n",
        "        numero_saques = numero_saques + 1\n",
        "      else:\n",
        "        print(\"Valor informado é inválido\")\n",
        "\n",
        "\n",
        "    elif opcao == 'e':\n",
        "      print(\"\\n=======EXTRATO=======\")\n",
        "      print(\"Não foram realizadas movimentações\" if not extrato else extrato) \n",
        "      print(f\"\\nSaldo: R$ {saldo:.2f}\")   \n",
        "      print(\"=====================\")\n",
        "\n",
        "    elif opcao == 'q':\n",
        "      break\n",
        "    \n",
        "    else:\n",
        "      print(\"Operação inválida, selecione outra opção.\")\n"
      ],
      "metadata": {
        "colab": {
          "base_uri": "https://localhost:8080/"
        },
        "id": "TQC11tsdQsxl",
        "outputId": "85947254-bd42-4b51-c04a-af7d12f679aa"
      },
      "execution_count": 9,
      "outputs": [
        {
          "name": "stdout",
          "output_type": "stream",
          "text": [
            "\n",
            "\n",
            "[d] Depositar\n",
            "[s] Sacar\n",
            "[e] Extrato\n",
            "[q] Sair\n",
            "\n",
            "=>q\n"
          ]
        }
      ]
    }
  ]
}